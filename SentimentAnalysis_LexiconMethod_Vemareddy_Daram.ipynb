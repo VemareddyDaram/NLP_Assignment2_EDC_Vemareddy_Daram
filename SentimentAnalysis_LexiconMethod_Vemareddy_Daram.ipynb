{
  "nbformat": 4,
  "nbformat_minor": 0,
  "metadata": {
    "colab": {
      "provenance": [],
      "include_colab_link": true
    },
    "kernelspec": {
      "name": "python3",
      "display_name": "Python 3"
    },
    "language_info": {
      "name": "python"
    }
  },
  "cells": [
    {
      "cell_type": "markdown",
      "metadata": {
        "id": "view-in-github",
        "colab_type": "text"
      },
      "source": [
        "<a href=\"https://colab.research.google.com/github/VemareddyDaram/NLP_Assignment2_EDC_Vemareddy_Daram/blob/main/SentimentAnalysis_LexiconMethod_Vemareddy_Daram.ipynb\" target=\"_parent\"><img src=\"https://colab.research.google.com/assets/colab-badge.svg\" alt=\"Open In Colab\"/></a>"
      ]
    },
    {
      "cell_type": "code",
      "execution_count": null,
      "metadata": {
        "colab": {
          "base_uri": "https://localhost:8080/"
        },
        "id": "kVyO22TNjCV3",
        "outputId": "8c7ed449-c45d-4cfe-be3c-3a39906ae772"
      },
      "outputs": [
        {
          "output_type": "stream",
          "name": "stdout",
          "text": [
            "Requirement already satisfied: pandas in /usr/local/lib/python3.11/dist-packages (2.2.2)\n",
            "Requirement already satisfied: nltk in /usr/local/lib/python3.11/dist-packages (3.9.1)\n",
            "Requirement already satisfied: numpy>=1.23.2 in /usr/local/lib/python3.11/dist-packages (from pandas) (2.0.2)\n",
            "Requirement already satisfied: python-dateutil>=2.8.2 in /usr/local/lib/python3.11/dist-packages (from pandas) (2.9.0.post0)\n",
            "Requirement already satisfied: pytz>=2020.1 in /usr/local/lib/python3.11/dist-packages (from pandas) (2025.2)\n",
            "Requirement already satisfied: tzdata>=2022.7 in /usr/local/lib/python3.11/dist-packages (from pandas) (2025.2)\n",
            "Requirement already satisfied: click in /usr/local/lib/python3.11/dist-packages (from nltk) (8.2.1)\n",
            "Requirement already satisfied: joblib in /usr/local/lib/python3.11/dist-packages (from nltk) (1.5.1)\n",
            "Requirement already satisfied: regex>=2021.8.3 in /usr/local/lib/python3.11/dist-packages (from nltk) (2024.11.6)\n",
            "Requirement already satisfied: tqdm in /usr/local/lib/python3.11/dist-packages (from nltk) (4.67.1)\n",
            "Requirement already satisfied: six>=1.5 in /usr/local/lib/python3.11/dist-packages (from python-dateutil>=2.8.2->pandas) (1.17.0)\n"
          ]
        }
      ],
      "source": [
        "!pip install pandas nltk"
      ]
    },
    {
      "cell_type": "code",
      "source": [
        "import pandas as pd\n",
        "import re\n",
        "import nltk\n",
        "from nltk.sentiment.vader import SentimentIntensityAnalyzer\n",
        "from nltk.corpus import stopwords\n",
        "nltk.download('vader_lexicon')\n",
        "nltk.download('stopwords')"
      ],
      "metadata": {
        "colab": {
          "base_uri": "https://localhost:8080/"
        },
        "id": "ZsJEntN7jFRe",
        "outputId": "e491bfcd-42c7-4eb5-b42e-7cc8ee838e08"
      },
      "execution_count": null,
      "outputs": [
        {
          "output_type": "stream",
          "name": "stderr",
          "text": [
            "[nltk_data] Downloading package vader_lexicon to /root/nltk_data...\n",
            "[nltk_data]   Package vader_lexicon is already up-to-date!\n",
            "[nltk_data] Downloading package stopwords to /root/nltk_data...\n",
            "[nltk_data]   Package stopwords is already up-to-date!\n"
          ]
        },
        {
          "output_type": "execute_result",
          "data": {
            "text/plain": [
              "True"
            ]
          },
          "metadata": {},
          "execution_count": 12
        }
      ]
    },
    {
      "cell_type": "code",
      "source": [
        "df = pd.read_csv('/content/sample_data/tweets-data.csv').sample(n=500, random_state=42)"
      ],
      "metadata": {
        "id": "9d0M7leNjLMH"
      },
      "execution_count": null,
      "outputs": []
    },
    {
      "cell_type": "code",
      "source": [
        "# Define stopwords\n",
        "stop_words = set(stopwords.words('english'))"
      ],
      "metadata": {
        "id": "AKYlmKzOjdug"
      },
      "execution_count": null,
      "outputs": []
    },
    {
      "cell_type": "markdown",
      "source": [
        "**STEP 1 Clean tweet text**"
      ],
      "metadata": {
        "id": "uNFeky2rjhEa"
      }
    },
    {
      "cell_type": "code",
      "source": [
        "def clean_tweet(text):\n",
        "    text = re.sub(r\"http\\S+|www\\S+|https\\S+\", '', text, flags=re.MULTILINE)\n",
        "    text = re.sub(r'\\@w+|\\#', '', text)\n",
        "    text = re.sub(r'[^A-Za-z0-9 ]+', '', text)\n",
        "    tokens = text.lower().split()\n",
        "    cleaned_tokens = [word for word in tokens if word not in stop_words]\n",
        "    return \" \".join(cleaned_tokens)\n",
        "\n",
        "# Apply cleaning\n",
        "df['cleaned_tweet'] = df['Tweets'].astype(str).apply(clean_tweet)"
      ],
      "metadata": {
        "id": "M14NVX4Bjgd8"
      },
      "execution_count": null,
      "outputs": []
    },
    {
      "cell_type": "markdown",
      "source": [
        "**Step 2: VADER sentiment function**"
      ],
      "metadata": {
        "id": "JeF8wB1Bj6p4"
      }
    },
    {
      "cell_type": "code",
      "source": [
        "sia = SentimentIntensityAnalyzer()\n",
        "\n",
        "def get_sentiment(text):\n",
        "    score = sia.polarity_scores(text)['compound']\n",
        "    if score >= 0.05:\n",
        "        label = 'positive'\n",
        "    elif score <= -0.05:\n",
        "        label = 'negative'\n",
        "    else:\n",
        "        label = 'neutral'\n",
        "    return label, score"
      ],
      "metadata": {
        "id": "f-CtzQMGjtL7"
      },
      "execution_count": null,
      "outputs": []
    },
    {
      "cell_type": "markdown",
      "source": [
        "**Step 3: Apply sentiment function**"
      ],
      "metadata": {
        "id": "8KKYQzqMj_1H"
      }
    },
    {
      "cell_type": "code",
      "source": [
        "df[['sentiment_label', 'sentiment_score']] = df['cleaned_tweet'].apply(\n",
        "    lambda x: pd.Series(get_sentiment(x))\n",
        ")"
      ],
      "metadata": {
        "id": "O83PeCjkj9xo"
      },
      "execution_count": null,
      "outputs": []
    },
    {
      "cell_type": "markdown",
      "source": [
        "**Step 4:View a sample**"
      ],
      "metadata": {
        "id": "b0u_73C3kJRj"
      }
    },
    {
      "cell_type": "code",
      "source": [
        "print(df[['Tweets', 'cleaned_tweet', 'sentiment_label', 'sentiment_score']].head())"
      ],
      "metadata": {
        "colab": {
          "base_uri": "https://localhost:8080/"
        },
        "id": "HdOa3d9GkDGB",
        "outputId": "34e93493-aae2-408f-cf09-4e0d06f6b53f"
      },
      "execution_count": null,
      "outputs": [
        {
          "output_type": "stream",
          "name": "stdout",
          "text": [
            "                                                 Tweets  \\\n",
            "2899  Le #DessinDePresse de Sanaga : ls sont morts c...   \n",
            "594   #Russia #Wagner #RussiaCivilWar https://t.co/P...   \n",
            "2870  Exclusive content -https://t.co/oEiSIIB2Z1\\n.\\...   \n",
            "52    Auch heute geht die politische Nachricht des T...   \n",
            "1391  @crazyclipsonly Same type that would take a ho...   \n",
            "\n",
            "                                          cleaned_tweet sentiment_label  \\\n",
            "2899  le dessindepresse de sanaga ls sont morts comm...        positive   \n",
            "594                        russia wagner russiacivilwar         neutral   \n",
            "2870  exclusive content cosplay japan titan titanics...        negative   \n",
            "52    auch heute geht die politische nachricht des t...        negative   \n",
            "1391  crazyclipsonly type would take homemade playst...         neutral   \n",
            "\n",
            "      sentiment_score  \n",
            "2899           0.4767  \n",
            "594            0.0000  \n",
            "2870          -0.4404  \n",
            "52            -0.5994  \n",
            "1391           0.0000  \n"
          ]
        }
      ]
    },
    {
      "cell_type": "code",
      "source": [],
      "metadata": {
        "id": "kHmD1u1bkPyd"
      },
      "execution_count": null,
      "outputs": []
    }
  ]
}